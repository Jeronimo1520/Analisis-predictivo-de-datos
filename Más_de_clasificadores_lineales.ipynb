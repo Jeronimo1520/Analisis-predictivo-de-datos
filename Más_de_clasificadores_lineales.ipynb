{
  "cells": [
    {
      "cell_type": "markdown",
      "metadata": {
        "id": "ZhNmQWV5-t6w"
      },
      "source": [
        "# Más de clasificadores"
      ]
    },
    {
      "cell_type": "markdown",
      "metadata": {
        "id": "riKxQxH5mTM9"
      },
      "source": [
        "Vamos a ver algunos aspectos prácticos de la implementación de modelos de clasificación, que nos permitirán mejorar su desempeño y tiempo de entrenamiento."
      ]
    },
    {
      "cell_type": "code",
      "execution_count": null,
      "metadata": {
        "id": "mxY_dE3LiHYo"
      },
      "outputs": [],
      "source": [
        "import pandas as pd\n",
        "import numpy as np\n",
        "import matplotlib.pyplot as plt"
      ]
    },
    {
      "cell_type": "code",
      "source": [
        "df = pd.read_csv(\"https://archive.ics.uci.edu/ml/machine-learning-databases/auto-mpg/auto-mpg.data-original\", sep='\\s+', header=None, na_values=['?'],\n",
        "                 names=['mpg', 'cylinders', 'displacement', 'horsepower', 'weight', 'acceleration', 'model_year', 'origin', 'car_name'])\n",
        "df.set_index('car_name', inplace=True)\n",
        "df.dropna(inplace=True)\n",
        "df.head()"
      ],
      "metadata": {
        "colab": {
          "base_uri": "https://localhost:8080/",
          "height": 238
        },
        "id": "jqUEm15Q-9lU",
        "outputId": "0da642b7-bf3c-417b-a5cb-533dba6be591"
      },
      "execution_count": null,
      "outputs": [
        {
          "output_type": "execute_result",
          "data": {
            "text/plain": [
              "                            mpg  cylinders  displacement  horsepower  weight  \\\n",
              "car_name                                                                       \n",
              "chevrolet chevelle malibu  18.0        8.0         307.0       130.0  3504.0   \n",
              "buick skylark 320          15.0        8.0         350.0       165.0  3693.0   \n",
              "plymouth satellite         18.0        8.0         318.0       150.0  3436.0   \n",
              "amc rebel sst              16.0        8.0         304.0       150.0  3433.0   \n",
              "ford torino                17.0        8.0         302.0       140.0  3449.0   \n",
              "\n",
              "                           acceleration  model_year  origin  \n",
              "car_name                                                     \n",
              "chevrolet chevelle malibu          12.0        70.0     1.0  \n",
              "buick skylark 320                  11.5        70.0     1.0  \n",
              "plymouth satellite                 11.0        70.0     1.0  \n",
              "amc rebel sst                      12.0        70.0     1.0  \n",
              "ford torino                        10.5        70.0     1.0  "
            ],
            "text/html": [
              "\n",
              "  <div id=\"df-ef46eda6-a648-44b9-bd0e-a9a7e9f85988\" class=\"colab-df-container\">\n",
              "    <div>\n",
              "<style scoped>\n",
              "    .dataframe tbody tr th:only-of-type {\n",
              "        vertical-align: middle;\n",
              "    }\n",
              "\n",
              "    .dataframe tbody tr th {\n",
              "        vertical-align: top;\n",
              "    }\n",
              "\n",
              "    .dataframe thead th {\n",
              "        text-align: right;\n",
              "    }\n",
              "</style>\n",
              "<table border=\"1\" class=\"dataframe\">\n",
              "  <thead>\n",
              "    <tr style=\"text-align: right;\">\n",
              "      <th></th>\n",
              "      <th>mpg</th>\n",
              "      <th>cylinders</th>\n",
              "      <th>displacement</th>\n",
              "      <th>horsepower</th>\n",
              "      <th>weight</th>\n",
              "      <th>acceleration</th>\n",
              "      <th>model_year</th>\n",
              "      <th>origin</th>\n",
              "    </tr>\n",
              "    <tr>\n",
              "      <th>car_name</th>\n",
              "      <th></th>\n",
              "      <th></th>\n",
              "      <th></th>\n",
              "      <th></th>\n",
              "      <th></th>\n",
              "      <th></th>\n",
              "      <th></th>\n",
              "      <th></th>\n",
              "    </tr>\n",
              "  </thead>\n",
              "  <tbody>\n",
              "    <tr>\n",
              "      <th>chevrolet chevelle malibu</th>\n",
              "      <td>18.0</td>\n",
              "      <td>8.0</td>\n",
              "      <td>307.0</td>\n",
              "      <td>130.0</td>\n",
              "      <td>3504.0</td>\n",
              "      <td>12.0</td>\n",
              "      <td>70.0</td>\n",
              "      <td>1.0</td>\n",
              "    </tr>\n",
              "    <tr>\n",
              "      <th>buick skylark 320</th>\n",
              "      <td>15.0</td>\n",
              "      <td>8.0</td>\n",
              "      <td>350.0</td>\n",
              "      <td>165.0</td>\n",
              "      <td>3693.0</td>\n",
              "      <td>11.5</td>\n",
              "      <td>70.0</td>\n",
              "      <td>1.0</td>\n",
              "    </tr>\n",
              "    <tr>\n",
              "      <th>plymouth satellite</th>\n",
              "      <td>18.0</td>\n",
              "      <td>8.0</td>\n",
              "      <td>318.0</td>\n",
              "      <td>150.0</td>\n",
              "      <td>3436.0</td>\n",
              "      <td>11.0</td>\n",
              "      <td>70.0</td>\n",
              "      <td>1.0</td>\n",
              "    </tr>\n",
              "    <tr>\n",
              "      <th>amc rebel sst</th>\n",
              "      <td>16.0</td>\n",
              "      <td>8.0</td>\n",
              "      <td>304.0</td>\n",
              "      <td>150.0</td>\n",
              "      <td>3433.0</td>\n",
              "      <td>12.0</td>\n",
              "      <td>70.0</td>\n",
              "      <td>1.0</td>\n",
              "    </tr>\n",
              "    <tr>\n",
              "      <th>ford torino</th>\n",
              "      <td>17.0</td>\n",
              "      <td>8.0</td>\n",
              "      <td>302.0</td>\n",
              "      <td>140.0</td>\n",
              "      <td>3449.0</td>\n",
              "      <td>10.5</td>\n",
              "      <td>70.0</td>\n",
              "      <td>1.0</td>\n",
              "    </tr>\n",
              "  </tbody>\n",
              "</table>\n",
              "</div>\n",
              "    <div class=\"colab-df-buttons\">\n",
              "\n",
              "  <div class=\"colab-df-container\">\n",
              "    <button class=\"colab-df-convert\" onclick=\"convertToInteractive('df-ef46eda6-a648-44b9-bd0e-a9a7e9f85988')\"\n",
              "            title=\"Convert this dataframe to an interactive table.\"\n",
              "            style=\"display:none;\">\n",
              "\n",
              "  <svg xmlns=\"http://www.w3.org/2000/svg\" height=\"24px\" viewBox=\"0 -960 960 960\">\n",
              "    <path d=\"M120-120v-720h720v720H120Zm60-500h600v-160H180v160Zm220 220h160v-160H400v160Zm0 220h160v-160H400v160ZM180-400h160v-160H180v160Zm440 0h160v-160H620v160ZM180-180h160v-160H180v160Zm440 0h160v-160H620v160Z\"/>\n",
              "  </svg>\n",
              "    </button>\n",
              "\n",
              "  <style>\n",
              "    .colab-df-container {\n",
              "      display:flex;\n",
              "      gap: 12px;\n",
              "    }\n",
              "\n",
              "    .colab-df-convert {\n",
              "      background-color: #E8F0FE;\n",
              "      border: none;\n",
              "      border-radius: 50%;\n",
              "      cursor: pointer;\n",
              "      display: none;\n",
              "      fill: #1967D2;\n",
              "      height: 32px;\n",
              "      padding: 0 0 0 0;\n",
              "      width: 32px;\n",
              "    }\n",
              "\n",
              "    .colab-df-convert:hover {\n",
              "      background-color: #E2EBFA;\n",
              "      box-shadow: 0px 1px 2px rgba(60, 64, 67, 0.3), 0px 1px 3px 1px rgba(60, 64, 67, 0.15);\n",
              "      fill: #174EA6;\n",
              "    }\n",
              "\n",
              "    .colab-df-buttons div {\n",
              "      margin-bottom: 4px;\n",
              "    }\n",
              "\n",
              "    [theme=dark] .colab-df-convert {\n",
              "      background-color: #3B4455;\n",
              "      fill: #D2E3FC;\n",
              "    }\n",
              "\n",
              "    [theme=dark] .colab-df-convert:hover {\n",
              "      background-color: #434B5C;\n",
              "      box-shadow: 0px 1px 3px 1px rgba(0, 0, 0, 0.15);\n",
              "      filter: drop-shadow(0px 1px 2px rgba(0, 0, 0, 0.3));\n",
              "      fill: #FFFFFF;\n",
              "    }\n",
              "  </style>\n",
              "\n",
              "    <script>\n",
              "      const buttonEl =\n",
              "        document.querySelector('#df-ef46eda6-a648-44b9-bd0e-a9a7e9f85988 button.colab-df-convert');\n",
              "      buttonEl.style.display =\n",
              "        google.colab.kernel.accessAllowed ? 'block' : 'none';\n",
              "\n",
              "      async function convertToInteractive(key) {\n",
              "        const element = document.querySelector('#df-ef46eda6-a648-44b9-bd0e-a9a7e9f85988');\n",
              "        const dataTable =\n",
              "          await google.colab.kernel.invokeFunction('convertToInteractive',\n",
              "                                                    [key], {});\n",
              "        if (!dataTable) return;\n",
              "\n",
              "        const docLinkHtml = 'Like what you see? Visit the ' +\n",
              "          '<a target=\"_blank\" href=https://colab.research.google.com/notebooks/data_table.ipynb>data table notebook</a>'\n",
              "          + ' to learn more about interactive tables.';\n",
              "        element.innerHTML = '';\n",
              "        dataTable['output_type'] = 'display_data';\n",
              "        await google.colab.output.renderOutput(dataTable, element);\n",
              "        const docLink = document.createElement('div');\n",
              "        docLink.innerHTML = docLinkHtml;\n",
              "        element.appendChild(docLink);\n",
              "      }\n",
              "    </script>\n",
              "  </div>\n",
              "\n",
              "\n",
              "<div id=\"df-40c82d7a-e56e-4b6a-b792-8091546663c5\">\n",
              "  <button class=\"colab-df-quickchart\" onclick=\"quickchart('df-40c82d7a-e56e-4b6a-b792-8091546663c5')\"\n",
              "            title=\"Suggest charts\"\n",
              "            style=\"display:none;\">\n",
              "\n",
              "<svg xmlns=\"http://www.w3.org/2000/svg\" height=\"24px\"viewBox=\"0 0 24 24\"\n",
              "     width=\"24px\">\n",
              "    <g>\n",
              "        <path d=\"M19 3H5c-1.1 0-2 .9-2 2v14c0 1.1.9 2 2 2h14c1.1 0 2-.9 2-2V5c0-1.1-.9-2-2-2zM9 17H7v-7h2v7zm4 0h-2V7h2v10zm4 0h-2v-4h2v4z\"/>\n",
              "    </g>\n",
              "</svg>\n",
              "  </button>\n",
              "\n",
              "<style>\n",
              "  .colab-df-quickchart {\n",
              "      --bg-color: #E8F0FE;\n",
              "      --fill-color: #1967D2;\n",
              "      --hover-bg-color: #E2EBFA;\n",
              "      --hover-fill-color: #174EA6;\n",
              "      --disabled-fill-color: #AAA;\n",
              "      --disabled-bg-color: #DDD;\n",
              "  }\n",
              "\n",
              "  [theme=dark] .colab-df-quickchart {\n",
              "      --bg-color: #3B4455;\n",
              "      --fill-color: #D2E3FC;\n",
              "      --hover-bg-color: #434B5C;\n",
              "      --hover-fill-color: #FFFFFF;\n",
              "      --disabled-bg-color: #3B4455;\n",
              "      --disabled-fill-color: #666;\n",
              "  }\n",
              "\n",
              "  .colab-df-quickchart {\n",
              "    background-color: var(--bg-color);\n",
              "    border: none;\n",
              "    border-radius: 50%;\n",
              "    cursor: pointer;\n",
              "    display: none;\n",
              "    fill: var(--fill-color);\n",
              "    height: 32px;\n",
              "    padding: 0;\n",
              "    width: 32px;\n",
              "  }\n",
              "\n",
              "  .colab-df-quickchart:hover {\n",
              "    background-color: var(--hover-bg-color);\n",
              "    box-shadow: 0 1px 2px rgba(60, 64, 67, 0.3), 0 1px 3px 1px rgba(60, 64, 67, 0.15);\n",
              "    fill: var(--button-hover-fill-color);\n",
              "  }\n",
              "\n",
              "  .colab-df-quickchart-complete:disabled,\n",
              "  .colab-df-quickchart-complete:disabled:hover {\n",
              "    background-color: var(--disabled-bg-color);\n",
              "    fill: var(--disabled-fill-color);\n",
              "    box-shadow: none;\n",
              "  }\n",
              "\n",
              "  .colab-df-spinner {\n",
              "    border: 2px solid var(--fill-color);\n",
              "    border-color: transparent;\n",
              "    border-bottom-color: var(--fill-color);\n",
              "    animation:\n",
              "      spin 1s steps(1) infinite;\n",
              "  }\n",
              "\n",
              "  @keyframes spin {\n",
              "    0% {\n",
              "      border-color: transparent;\n",
              "      border-bottom-color: var(--fill-color);\n",
              "      border-left-color: var(--fill-color);\n",
              "    }\n",
              "    20% {\n",
              "      border-color: transparent;\n",
              "      border-left-color: var(--fill-color);\n",
              "      border-top-color: var(--fill-color);\n",
              "    }\n",
              "    30% {\n",
              "      border-color: transparent;\n",
              "      border-left-color: var(--fill-color);\n",
              "      border-top-color: var(--fill-color);\n",
              "      border-right-color: var(--fill-color);\n",
              "    }\n",
              "    40% {\n",
              "      border-color: transparent;\n",
              "      border-right-color: var(--fill-color);\n",
              "      border-top-color: var(--fill-color);\n",
              "    }\n",
              "    60% {\n",
              "      border-color: transparent;\n",
              "      border-right-color: var(--fill-color);\n",
              "    }\n",
              "    80% {\n",
              "      border-color: transparent;\n",
              "      border-right-color: var(--fill-color);\n",
              "      border-bottom-color: var(--fill-color);\n",
              "    }\n",
              "    90% {\n",
              "      border-color: transparent;\n",
              "      border-bottom-color: var(--fill-color);\n",
              "    }\n",
              "  }\n",
              "</style>\n",
              "\n",
              "  <script>\n",
              "    async function quickchart(key) {\n",
              "      const quickchartButtonEl =\n",
              "        document.querySelector('#' + key + ' button');\n",
              "      quickchartButtonEl.disabled = true;  // To prevent multiple clicks.\n",
              "      quickchartButtonEl.classList.add('colab-df-spinner');\n",
              "      try {\n",
              "        const charts = await google.colab.kernel.invokeFunction(\n",
              "            'suggestCharts', [key], {});\n",
              "      } catch (error) {\n",
              "        console.error('Error during call to suggestCharts:', error);\n",
              "      }\n",
              "      quickchartButtonEl.classList.remove('colab-df-spinner');\n",
              "      quickchartButtonEl.classList.add('colab-df-quickchart-complete');\n",
              "    }\n",
              "    (() => {\n",
              "      let quickchartButtonEl =\n",
              "        document.querySelector('#df-40c82d7a-e56e-4b6a-b792-8091546663c5 button');\n",
              "      quickchartButtonEl.style.display =\n",
              "        google.colab.kernel.accessAllowed ? 'block' : 'none';\n",
              "    })();\n",
              "  </script>\n",
              "</div>\n",
              "\n",
              "    </div>\n",
              "  </div>\n"
            ],
            "application/vnd.google.colaboratory.intrinsic+json": {
              "type": "dataframe",
              "variable_name": "df",
              "summary": "{\n  \"name\": \"df\",\n  \"rows\": 392,\n  \"fields\": [\n    {\n      \"column\": \"car_name\",\n      \"properties\": {\n        \"dtype\": \"string\",\n        \"num_unique_values\": 301,\n        \"samples\": [\n          \"subaru dl\",\n          \"buick century limited\",\n          \"plymouth horizon\"\n        ],\n        \"semantic_type\": \"\",\n        \"description\": \"\"\n      }\n    },\n    {\n      \"column\": \"mpg\",\n      \"properties\": {\n        \"dtype\": \"number\",\n        \"std\": 7.8050074865717995,\n        \"min\": 9.0,\n        \"max\": 46.6,\n        \"num_unique_values\": 127,\n        \"samples\": [\n          17.5,\n          35.1,\n          28.8\n        ],\n        \"semantic_type\": \"\",\n        \"description\": \"\"\n      }\n    },\n    {\n      \"column\": \"cylinders\",\n      \"properties\": {\n        \"dtype\": \"number\",\n        \"std\": 1.7057832474527845,\n        \"min\": 3.0,\n        \"max\": 8.0,\n        \"num_unique_values\": 5,\n        \"samples\": [\n          4.0,\n          5.0,\n          6.0\n        ],\n        \"semantic_type\": \"\",\n        \"description\": \"\"\n      }\n    },\n    {\n      \"column\": \"displacement\",\n      \"properties\": {\n        \"dtype\": \"number\",\n        \"std\": 104.64400390890466,\n        \"min\": 68.0,\n        \"max\": 455.0,\n        \"num_unique_values\": 81,\n        \"samples\": [\n          116.0,\n          307.0,\n          360.0\n        ],\n        \"semantic_type\": \"\",\n        \"description\": \"\"\n      }\n    },\n    {\n      \"column\": \"horsepower\",\n      \"properties\": {\n        \"dtype\": \"number\",\n        \"std\": 38.49115993282849,\n        \"min\": 46.0,\n        \"max\": 230.0,\n        \"num_unique_values\": 93,\n        \"samples\": [\n          92.0,\n          100.0,\n          52.0\n        ],\n        \"semantic_type\": \"\",\n        \"description\": \"\"\n      }\n    },\n    {\n      \"column\": \"weight\",\n      \"properties\": {\n        \"dtype\": \"number\",\n        \"std\": 849.4025600429492,\n        \"min\": 1613.0,\n        \"max\": 5140.0,\n        \"num_unique_values\": 346,\n        \"samples\": [\n          2472.0,\n          3221.0,\n          2700.0\n        ],\n        \"semantic_type\": \"\",\n        \"description\": \"\"\n      }\n    },\n    {\n      \"column\": \"acceleration\",\n      \"properties\": {\n        \"dtype\": \"number\",\n        \"std\": 2.758864119188082,\n        \"min\": 8.0,\n        \"max\": 24.8,\n        \"num_unique_values\": 95,\n        \"samples\": [\n          14.7,\n          18.0,\n          14.3\n        ],\n        \"semantic_type\": \"\",\n        \"description\": \"\"\n      }\n    },\n    {\n      \"column\": \"model_year\",\n      \"properties\": {\n        \"dtype\": \"number\",\n        \"std\": 3.6837365435778295,\n        \"min\": 70.0,\n        \"max\": 82.0,\n        \"num_unique_values\": 13,\n        \"samples\": [\n          81.0,\n          79.0,\n          70.0\n        ],\n        \"semantic_type\": \"\",\n        \"description\": \"\"\n      }\n    },\n    {\n      \"column\": \"origin\",\n      \"properties\": {\n        \"dtype\": \"number\",\n        \"std\": 0.8055181834183056,\n        \"min\": 1.0,\n        \"max\": 3.0,\n        \"num_unique_values\": 3,\n        \"samples\": [\n          1.0,\n          3.0,\n          2.0\n        ],\n        \"semantic_type\": \"\",\n        \"description\": \"\"\n      }\n    }\n  ]\n}"
            }
          },
          "metadata": {},
          "execution_count": 7
        }
      ]
    },
    {
      "cell_type": "code",
      "source": [
        "df['origin_country'] = df['origin']==1\n",
        "df.origin_country = df.origin_country.map({True: 'USA', False: 'Other'})\n",
        "df.origin_country.value_counts()"
      ],
      "metadata": {
        "colab": {
          "base_uri": "https://localhost:8080/",
          "height": 178
        },
        "id": "GFmcmIMX_F8z",
        "outputId": "a1636933-6893-4ff1-cdca-e04c9cdd1a8f"
      },
      "execution_count": null,
      "outputs": [
        {
          "output_type": "execute_result",
          "data": {
            "text/plain": [
              "origin_country\n",
              "USA      245\n",
              "Other    147\n",
              "Name: count, dtype: int64"
            ],
            "text/html": [
              "<div>\n",
              "<style scoped>\n",
              "    .dataframe tbody tr th:only-of-type {\n",
              "        vertical-align: middle;\n",
              "    }\n",
              "\n",
              "    .dataframe tbody tr th {\n",
              "        vertical-align: top;\n",
              "    }\n",
              "\n",
              "    .dataframe thead th {\n",
              "        text-align: right;\n",
              "    }\n",
              "</style>\n",
              "<table border=\"1\" class=\"dataframe\">\n",
              "  <thead>\n",
              "    <tr style=\"text-align: right;\">\n",
              "      <th></th>\n",
              "      <th>count</th>\n",
              "    </tr>\n",
              "    <tr>\n",
              "      <th>origin_country</th>\n",
              "      <th></th>\n",
              "    </tr>\n",
              "  </thead>\n",
              "  <tbody>\n",
              "    <tr>\n",
              "      <th>USA</th>\n",
              "      <td>245</td>\n",
              "    </tr>\n",
              "    <tr>\n",
              "      <th>Other</th>\n",
              "      <td>147</td>\n",
              "    </tr>\n",
              "  </tbody>\n",
              "</table>\n",
              "</div><br><label><b>dtype:</b> int64</label>"
            ]
          },
          "metadata": {},
          "execution_count": 8
        }
      ]
    },
    {
      "cell_type": "code",
      "source": [
        "# Extraccion de matrices de caracteristicas y objetivo, y division de los datos en entrenamiento y prueba\n",
        "from sklearn.model_selection import train_test_split\n",
        "X = df[['mpg', 'acceleration']]\n",
        "y = df['origin_country']\n",
        "\n",
        "X_train, X_test, y_train, y_test = train_test_split(X, y, random_state=21, train_size=0.8)\n",
        "print(f'Tamaño del conjunto de entrenamiento es: {X_train.shape}')\n",
        "print(f'Tamaño del conjunto de prueba es: {X_test.shape}')"
      ],
      "metadata": {
        "colab": {
          "base_uri": "https://localhost:8080/"
        },
        "id": "s1xt0Tfs_MKK",
        "outputId": "7962b15b-56bf-420f-c766-5f79d6e0abe6"
      },
      "execution_count": null,
      "outputs": [
        {
          "output_type": "stream",
          "name": "stdout",
          "text": [
            "Tamaño del conjunto de entrenamiento es: (313, 2)\n",
            "Tamaño del conjunto de prueba es: (79, 2)\n"
          ]
        }
      ]
    },
    {
      "cell_type": "markdown",
      "metadata": {
        "id": "Slgn2bwNTlyt"
      },
      "source": [
        "# Sobre los métodos de sintonización de hiperparámetros"
      ]
    },
    {
      "cell_type": "markdown",
      "metadata": {
        "id": "cCAHZSjRmrO6"
      },
      "source": [
        "El método de sintonización de hipérparámetros que implementa **GridSearchCV** es la búsqueda exhaustiva en cuadrícula, esto es, probar uno por uno todas los valores que se le entregan de los hiperparámetros. Así, sí tuviéramos que sintonizar 3 hiperparámetros, y del primero quisiéramos probar 10 valores, del segundo 50, y del tercero, **GridSearchCV** probaría $10*50*3 = 1500$ combinaciones posibles de hiperparámetros, cada uno por validación cruzada con el núemro de folds que se configure. Por ejemplo, si se usarán 5 folds, el modelo a sintonizar se entrenaría 5 veces por cada combinación de hiperparámetros, así que en este caso, el modelo se entrenaría $1500*5 = 7500$ veces. Esto evidentemente puede tomar mucho tiempo, sobretodo si nuestra matriz de características es grande.\n",
        "\n",
        "Por todo lo anterior, han surgido métodos alternativos de sintonización de hiperparámetros."
      ]
    },
    {
      "cell_type": "code",
      "execution_count": null,
      "metadata": {
        "colab": {
          "base_uri": "https://localhost:8080/"
        },
        "id": "w1ZuzyHVRr4r",
        "outputId": "7c8a714d-b4ed-4be9-a407-f340865a4ebf"
      },
      "outputs": [
        {
          "output_type": "stream",
          "name": "stdout",
          "text": [
            "El f1 score de validación es: 0.806 se obtiene con los siguientes hiperparámetos: {'C': 0.868511373751352, 'penalty': 'l1'}\n",
            "El f1 score de prueba es: 0.824\n",
            "Tiempo transcurrido: 40.320953130722046 segundos\n"
          ]
        }
      ],
      "source": [
        "import time\n",
        "start_time = time.time()\n",
        "\n",
        "from sklearn.linear_model import LogisticRegression\n",
        "from sklearn.model_selection import GridSearchCV\n",
        "from sklearn.metrics import f1_score\n",
        "from sklearn.preprocessing import LabelEncoder\n",
        "\n",
        "le = LabelEncoder()\n",
        "y_train_le = le.fit_transform(y_train)\n",
        "y_test_le = le.fit_transform(y_test)\n",
        "\n",
        "grid = {'penalty':['l1', 'l2'], 'C':np.logspace(-3,3,50)}\n",
        "grid_search = GridSearchCV(estimator=LogisticRegression(max_iter=10000, solver='saga'), param_grid=grid, cv=5, scoring='f1')\n",
        "grid_search.fit(X_train, y_train_le)\n",
        "test_score = f1_score(y_test_le, grid_search.best_estimator_.predict(X_test))\n",
        "print(f'El f1 score de validación es: {grid_search.best_score_:.3f} se obtiene con los siguientes hiperparámetos: {grid_search.best_params_}')\n",
        "print(f'El f1 score de prueba es: {test_score:.3f}')\n",
        "\n",
        "end_time = time.time()\n",
        "elapsed_time = end_time - start_time\n",
        "print(f\"Tiempo transcurrido: {elapsed_time} segundos\")"
      ]
    },
    {
      "cell_type": "code",
      "execution_count": null,
      "metadata": {
        "colab": {
          "base_uri": "https://localhost:8080/"
        },
        "id": "uLOULLvETOce",
        "outputId": "098ed83e-64c2-4eb5-8388-19115a7a6a34"
      },
      "outputs": [
        {
          "output_type": "stream",
          "name": "stdout",
          "text": [
            "              precision    recall  f1-score   support\n",
            "\n",
            "           0       0.61      0.76      0.68        25\n",
            "           1       0.88      0.78      0.82        54\n",
            "\n",
            "    accuracy                           0.77        79\n",
            "   macro avg       0.74      0.77      0.75        79\n",
            "weighted avg       0.79      0.77      0.78        79\n",
            "\n"
          ]
        }
      ],
      "source": [
        "from sklearn.metrics import classification_report\n",
        "print(classification_report(y_test_le, grid_search.best_estimator_.predict(X_test)))"
      ]
    },
    {
      "cell_type": "code",
      "execution_count": null,
      "metadata": {
        "colab": {
          "base_uri": "https://localhost:8080/",
          "height": 466
        },
        "id": "7PdQNPyQTYsl",
        "outputId": "f6b072de-fa1d-42ff-f941-bd984a307114"
      },
      "outputs": [
        {
          "output_type": "execute_result",
          "data": {
            "text/plain": [
              "<sklearn.metrics._plot.confusion_matrix.ConfusionMatrixDisplay at 0x7cca85bc3340>"
            ]
          },
          "metadata": {},
          "execution_count": 29
        },
        {
          "output_type": "display_data",
          "data": {
            "text/plain": [
              "<Figure size 640x480 with 2 Axes>"
            ],
            "image/png": "[encoded data removed]"
          },
          "metadata": {}
        }
      ],
      "source": [
        "from sklearn.metrics import ConfusionMatrixDisplay\n",
        "ConfusionMatrixDisplay.from_estimator(grid_search.best_estimator_, X_test, y_test_le)"
      ]
    },
    {
      "cell_type": "markdown",
      "metadata": {
        "id": "SAyBBorbopeK"
      },
      "source": [
        "El método **RandomizedSearchCV** implementa una búsqueda aleatoria sobre los parámetros, donde cada valor se muestrea a partir de una distribución sobre los posibles valores de los parámetros.\n",
        "\n",
        "La búsqueda aleatoria y la búsqueda exhaustiva en cuadrícula exploran exactamente el mismo espacio de parámetros. El resultado en la configuración de parámetros es bastante similar, mientras que el tiempo de ejecución de la búsqueda aleatoria es drásticamente inferior."
      ]
    },
    {
      "cell_type": "code",
      "execution_count": null,
      "metadata": {
        "colab": {
          "base_uri": "https://localhost:8080/"
        },
        "id": "JVuaC_pnU75p",
        "outputId": "76d41e1d-94f4-4baf-f787-1abe980f0b99"
      },
      "outputs": [
        {
          "output_type": "stream",
          "name": "stdout",
          "text": [
            "El f1 score de validación es: 0.795 se obtiene con los siguientes hiperparámetos: {'C': 0.011776352442665209, 'penalty': 'l1'}\n",
            "El f1 score de prueba es: 0.824\n",
            "Tiempo transcurrido: 5.869452714920044 segundos\n"
          ]
        }
      ],
      "source": [
        "import time\n",
        "start_time = time.time()\n",
        "\n",
        "from sklearn.linear_model import LogisticRegression\n",
        "from sklearn.model_selection import RandomizedSearchCV\n",
        "from scipy.stats import loguniform\n",
        "from sklearn.metrics import f1_score\n",
        "from sklearn.preprocessing import LabelEncoder\n",
        "\n",
        "le = LabelEncoder()\n",
        "y_train_le = le.fit_transform(y_train)\n",
        "y_test_le = le.fit_transform(y_test)\n",
        "\n",
        "dist = {'penalty':['l1', 'l2'], 'C':loguniform(1e-3, 1e3)}\n",
        "grid_search = RandomizedSearchCV(estimator=LogisticRegression(max_iter=10000, solver='saga'), param_distributions=dist, cv=5, scoring='f1')\n",
        "grid_search.fit(X_train, y_train_le)\n",
        "test_score = f1_score(y_test_le, grid_search.best_estimator_.predict(X_test))\n",
        "print(f'El f1 score de validación es: {grid_search.best_score_:.3f} se obtiene con los siguientes hiperparámetos: {grid_search.best_params_}')\n",
        "print(f'El f1 score de prueba es: {test_score:.3f}')\n",
        "\n",
        "end_time = time.time()\n",
        "elapsed_time = end_time - start_time\n",
        "print(f\"Tiempo transcurrido: {elapsed_time} segundos\")"
      ]
    },
    {
      "cell_type": "code",
      "execution_count": null,
      "metadata": {
        "colab": {
          "base_uri": "https://localhost:8080/"
        },
        "id": "9J8nKkGwZoky",
        "outputId": "50f6c7c1-6dad-40b6-dd87-a7e9ee22e229"
      },
      "outputs": [
        {
          "output_type": "stream",
          "name": "stdout",
          "text": [
            "              precision    recall  f1-score   support\n",
            "\n",
            "           0       0.61      0.76      0.68        25\n",
            "           1       0.88      0.78      0.82        54\n",
            "\n",
            "    accuracy                           0.77        79\n",
            "   macro avg       0.74      0.77      0.75        79\n",
            "weighted avg       0.79      0.77      0.78        79\n",
            "\n"
          ]
        }
      ],
      "source": [
        "from sklearn.metrics import classification_report\n",
        "print(classification_report(y_test_le, grid_search.best_estimator_.predict(X_test)))"
      ]
    },
    {
      "cell_type": "code",
      "execution_count": null,
      "metadata": {
        "colab": {
          "base_uri": "https://localhost:8080/",
          "height": 466
        },
        "id": "cULnozLAZu-a",
        "outputId": "fc0c6b20-ad6b-4872-e3aa-1a2a2dd1f2e9"
      },
      "outputs": [
        {
          "output_type": "execute_result",
          "data": {
            "text/plain": [
              "<sklearn.metrics._plot.confusion_matrix.ConfusionMatrixDisplay at 0x7cca82e84d60>"
            ]
          },
          "metadata": {},
          "execution_count": 32
        },
        {
          "output_type": "display_data",
          "data": {
            "text/plain": [
              "<Figure size 640x480 with 2 Axes>"
            ],
            "image/png": "[encoded data removed]"
          },
          "metadata": {}
        }
      ],
      "source": [
        "from sklearn.metrics import ConfusionMatrixDisplay\n",
        "ConfusionMatrixDisplay.from_estimator(grid_search.best_estimator_, X_test, y_test_le)"
      ]
    },
    {
      "cell_type": "markdown",
      "metadata": {
        "id": "Qg0i3UAGsikS"
      },
      "source": [
        "Scikit-learn también proporciona los estimadores **HalvingGridSearchCV** y **HalvingRandomSearchCV** que se pueden utilizar para buscar un espacio de parámetros utilizando sucesivas divisiones por mitades. La división sucesiva en dos es como un torneo entre combinaciones de parámetros candidatos. Es un proceso de selección iterativo en el que todos los candidatos (las combinaciones de parámetros) se evalúan con una pequeña cantidad de recursos en la primera iteración. Sólo algunos de estos candidatos se seleccionan para la siguiente iteración, a la que se asignarán más recursos.\n",
        "\n",
        "Por ahora, estos métodos están en fase experimental, por lo que no se recomienda usarlos aún en proyectos importantes."
      ]
    },
    {
      "cell_type": "markdown",
      "metadata": {
        "id": "IdftcSTts_K5"
      },
      "source": [
        "Por último, existen otras librerías que implementan métodos de sintonización muy robustos y eficientes basados en inferencia bayesiana. Si está interesado en estos métodos, puede consultar este enlace: https://github.com/ARM-software/mango."
      ]
    },
    {
      "cell_type": "markdown",
      "metadata": {
        "id": "M3mUXCuhbgLD"
      },
      "source": [
        "# Acerca de las métricas"
      ]
    },
    {
      "cell_type": "markdown",
      "source": [
        "En Scikit Learn los scores que se muestran de las métricas *precision*, *recall* y *f1_score* son los que se han calculado con respecto a la clase que la librería tomo como **positiva**. Esto puede llevar a malas interpretaciones de los resultados. Veamos un ejemplo."
      ],
      "metadata": {
        "id": "oirUeZWeRq_f"
      }
    },
    {
      "cell_type": "code",
      "execution_count": null,
      "metadata": {
        "colab": {
          "base_uri": "https://localhost:8080/"
        },
        "id": "JFtkINQ_bjis",
        "outputId": "7c7c2555-d531-4b10-c365-6188c566fb46"
      },
      "outputs": [
        {
          "output_type": "stream",
          "name": "stdout",
          "text": [
            "El f1 score de validación es: 0.787 se obtiene con los siguientes hiperparámetos: {'C': 0.1847780342425484, 'penalty': 'l1'}\n",
            "El f1 score de prueba es: 0.824\n"
          ]
        }
      ],
      "source": [
        "from sklearn.linear_model import LogisticRegression\n",
        "from sklearn.model_selection import RandomizedSearchCV\n",
        "from scipy.stats import loguniform\n",
        "from sklearn.metrics import f1_score\n",
        "from sklearn.preprocessing import LabelEncoder\n",
        "\n",
        "le = LabelEncoder()\n",
        "y_train_le = le.fit_transform(y_train)\n",
        "y_test_le = le.fit_transform(y_test)\n",
        "\n",
        "dist = {'penalty':['l1', 'l2'], 'C':loguniform(1e-3, 1e3)}\n",
        "grid_search = RandomizedSearchCV(estimator=LogisticRegression(max_iter=10000, solver='saga'), param_distributions=dist, cv=5, scoring='f1')\n",
        "grid_search.fit(X_train, y_train_le)\n",
        "test_score = f1_score(y_test_le, grid_search.best_estimator_.predict(X_test))\n",
        "print(f'El f1 score de validación es: {grid_search.best_score_:.3f} se obtiene con los siguientes hiperparámetos: {grid_search.best_params_}')\n",
        "print(f'El f1 score de prueba es: {test_score:.3f}')"
      ]
    },
    {
      "cell_type": "markdown",
      "source": [
        "Este resultado es el que se obtiene considerando como positiva la clase etiquetada '1'. A primera vista, este resultado es bueno."
      ],
      "metadata": {
        "id": "ontFBmBtUCW9"
      }
    },
    {
      "cell_type": "code",
      "execution_count": null,
      "metadata": {
        "colab": {
          "base_uri": "https://localhost:8080/"
        },
        "id": "JxRrQAvvbjhD",
        "outputId": "09306546-0b44-4fe9-ec0f-4e6641b97e36"
      },
      "outputs": [
        {
          "output_type": "stream",
          "name": "stdout",
          "text": [
            "              precision    recall  f1-score   support\n",
            "\n",
            "           0       0.61      0.76      0.68        25\n",
            "           1       0.88      0.78      0.82        54\n",
            "\n",
            "    accuracy                           0.77        79\n",
            "   macro avg       0.74      0.77      0.75        79\n",
            "weighted avg       0.79      0.77      0.78        79\n",
            "\n"
          ]
        }
      ],
      "source": [
        "from sklearn.metrics import classification_report\n",
        "print(classification_report(y_test_le, grid_search.best_estimator_.predict(X_test)))"
      ]
    },
    {
      "cell_type": "markdown",
      "source": [
        "El reporte de clasificación da otra visión. Aquí se puede ver que para la clase 'O' el clasificador funciona peor que para la clase '1', siendo la clase '0' los vehículos producidos por fuera de Estados Unidos."
      ],
      "metadata": {
        "id": "gfVHipcmVEZV"
      }
    },
    {
      "cell_type": "code",
      "source": [
        "le.classes_"
      ],
      "metadata": {
        "colab": {
          "base_uri": "https://localhost:8080/"
        },
        "id": "0kG4pqdpCzl-",
        "outputId": "5009ea00-9f12-4d11-ef96-3533988d92e7"
      },
      "execution_count": null,
      "outputs": [
        {
          "output_type": "execute_result",
          "data": {
            "text/plain": [
              "array(['Other', 'USA'], dtype=object)"
            ]
          },
          "metadata": {},
          "execution_count": 37
        }
      ]
    },
    {
      "cell_type": "code",
      "execution_count": null,
      "metadata": {
        "colab": {
          "base_uri": "https://localhost:8080/"
        },
        "id": "4-qBrkbneoWm",
        "outputId": "29687316-7edc-4d6c-ad63-1cec311e9020"
      },
      "outputs": [
        {
          "output_type": "stream",
          "name": "stdout",
          "text": [
            "El f1 score de la clase 0 en este modelo con los datos de prueba es: 0.679\n"
          ]
        }
      ],
      "source": [
        "test_score = f1_score(y_test_le, grid_search.best_estimator_.predict(X_test), pos_label=0)\n",
        "print(f'El f1 score de la clase 0 en este modelo con los datos de prueba es: {test_score:.3f}')"
      ]
    },
    {
      "cell_type": "code",
      "execution_count": null,
      "metadata": {
        "colab": {
          "base_uri": "https://localhost:8080/",
          "height": 466
        },
        "id": "Pbpzg0ScbjQF",
        "outputId": "e35216f3-2c17-456c-d22a-29683a4a505d"
      },
      "outputs": [
        {
          "output_type": "execute_result",
          "data": {
            "text/plain": [
              "<sklearn.metrics._plot.confusion_matrix.ConfusionMatrixDisplay at 0x7cca82b2cb20>"
            ]
          },
          "metadata": {},
          "execution_count": 36
        },
        {
          "output_type": "display_data",
          "data": {
            "text/plain": [
              "<Figure size 640x480 with 2 Axes>"
            ],
            "image/png": "[encoded data removed]"
          },
          "metadata": {}
        }
      ],
      "source": [
        "from sklearn.metrics import ConfusionMatrixDisplay\n",
        "ConfusionMatrixDisplay.from_estimator(grid_search.best_estimator_, X_test, y_test_le)"
      ]
    },
    {
      "cell_type": "markdown",
      "source": [
        "La matriz de confusión nos corrobora esto, que se equivoca mucho menos con la clase '1' que con la clase '0'. En este caso esto significa que predice mejor cuando un vehículo es de Estados Unidos que cuando no es de Estados Unidos."
      ],
      "metadata": {
        "id": "qvgqrmowVf1P"
      }
    },
    {
      "cell_type": "markdown",
      "source": [
        "¿Y si quiero sintonizar hiperparámetros tomando como clase positiva la otra?\n",
        "\n",
        "Esto se puede hacer asi:"
      ],
      "metadata": {
        "id": "n9pIEZ3safyj"
      }
    },
    {
      "cell_type": "code",
      "source": [
        "from sklearn.linear_model import LogisticRegression\n",
        "from sklearn.model_selection import RandomizedSearchCV\n",
        "from scipy.stats import loguniform\n",
        "from sklearn.metrics import f1_score, make_scorer\n",
        "from sklearn.preprocessing import LabelEncoder\n",
        "\n",
        "le = LabelEncoder()\n",
        "y_train_le = le.fit_transform(y_train)\n",
        "y_test_le = le.fit_transform(y_test)\n",
        "\n",
        "scorer=make_scorer(f1_score, pos_label=0)\n",
        "\n",
        "dist = {'penalty':['l1', 'l2'], 'C':loguniform(1e-3, 1e3)}\n",
        "grid_search = RandomizedSearchCV(estimator=LogisticRegression(max_iter=10000, solver='saga'), param_distributions=dist, cv=5, scoring=scorer)\n",
        "grid_search.fit(X_train, y_train_le)\n",
        "test_score = f1_score(y_test_le, grid_search.best_estimator_.predict(X_test), pos_label=0)\n",
        "print(f'El f1 score de validación es: {grid_search.best_score_:.3f} se obtiene con los siguientes hiperparámetos: {grid_search.best_params_}')\n",
        "print(f'El f1 score de prueba es: {test_score:.3f}')"
      ],
      "metadata": {
        "colab": {
          "base_uri": "https://localhost:8080/"
        },
        "id": "ARMfjxBRWF5A",
        "outputId": "66cb7cb9-7bd3-44d0-98cf-d5b93ac42147"
      },
      "execution_count": null,
      "outputs": [
        {
          "output_type": "stream",
          "name": "stdout",
          "text": [
            "El f1 score de validación es: 0.632 se obtiene con los siguientes hiperparámetos: {'C': 0.20906940205738492, 'penalty': 'l1'}\n",
            "El f1 score de prueba es: 0.679\n"
          ]
        }
      ]
    },
    {
      "cell_type": "markdown",
      "source": [
        "Pareciera que esto empeoró el modelo, pero no es así, los resultados son exactamente iguales a los del modelo anterior:"
      ],
      "metadata": {
        "id": "FJ1CkBWaazBx"
      }
    },
    {
      "cell_type": "code",
      "source": [
        "from sklearn.metrics import classification_report\n",
        "print(classification_report(y_test_le, grid_search.best_estimator_.predict(X_test)))"
      ],
      "metadata": {
        "colab": {
          "base_uri": "https://localhost:8080/"
        },
        "id": "MOLeApDEasjt",
        "outputId": "c4dac06c-7d27-4846-e5d1-972381a24d57"
      },
      "execution_count": null,
      "outputs": [
        {
          "output_type": "stream",
          "name": "stdout",
          "text": [
            "              precision    recall  f1-score   support\n",
            "\n",
            "           0       0.61      0.76      0.68        25\n",
            "           1       0.88      0.78      0.82        54\n",
            "\n",
            "    accuracy                           0.77        79\n",
            "   macro avg       0.74      0.77      0.75        79\n",
            "weighted avg       0.79      0.77      0.78        79\n",
            "\n"
          ]
        }
      ]
    },
    {
      "cell_type": "code",
      "source": [
        "from sklearn.metrics import ConfusionMatrixDisplay\n",
        "ConfusionMatrixDisplay.from_estimator(grid_search.best_estimator_, X_test, y_test_le)"
      ],
      "metadata": {
        "colab": {
          "base_uri": "https://localhost:8080/",
          "height": 466
        },
        "id": "qd2nmZc_bez1",
        "outputId": "04011fcd-b5aa-488e-d45b-b993162d22b0"
      },
      "execution_count": null,
      "outputs": [
        {
          "output_type": "execute_result",
          "data": {
            "text/plain": [
              "<sklearn.metrics._plot.confusion_matrix.ConfusionMatrixDisplay at 0x7cca856f7d00>"
            ]
          },
          "metadata": {},
          "execution_count": 40
        },
        {
          "output_type": "display_data",
          "data": {
            "text/plain": [
              "<Figure size 640x480 with 2 Axes>"
            ],
            "image/png": "[encoded data removed]"
          },
          "metadata": {}
        }
      ]
    },
    {
      "cell_type": "markdown",
      "metadata": {
        "id": "VWwnKDBffN0D"
      },
      "source": [
        "# Balanceo de clases"
      ]
    },
    {
      "cell_type": "markdown",
      "source": [
        "Lo habitual es querer un clasificador que se desempeñe bien con todas las clases, y no solo con una, asi que, sí este es el caso, deberíamos usar una métrica que tenga en cuenta a todas las clases.\n",
        "\n",
        "Algunas métricas que hacen esto son **balanced_accuracy**, **f1 macro**, **f1 weighted**, y **matthews_corrcoef**.\n",
        "\n",
        "Vamos a probar **f1 macro** y **f1 weighted**."
      ],
      "metadata": {
        "id": "DQtFyo8ebsO4"
      }
    },
    {
      "cell_type": "code",
      "execution_count": null,
      "metadata": {
        "id": "XZD8dAdzb-vn",
        "colab": {
          "base_uri": "https://localhost:8080/"
        },
        "outputId": "b53ead15-3776-427a-a122-f6f71ea0096a"
      },
      "outputs": [
        {
          "output_type": "stream",
          "name": "stdout",
          "text": [
            "El f1 score de validación es: 0.709 se obtiene con los siguientes hiperparámetos: {'C': 0.0024441860585198436, 'penalty': 'l2'}\n",
            "El f1 score de prueba es: 0.751\n"
          ]
        }
      ],
      "source": [
        "from sklearn.linear_model import LogisticRegression\n",
        "from sklearn.model_selection import RandomizedSearchCV\n",
        "from scipy.stats import loguniform\n",
        "from sklearn.metrics import f1_score\n",
        "from sklearn.preprocessing import LabelEncoder\n",
        "\n",
        "le = LabelEncoder()\n",
        "y_train_le = le.fit_transform(y_train)\n",
        "y_test_le = le.fit_transform(y_test)\n",
        "\n",
        "dist = {'penalty':['l1', 'l2'], 'C':loguniform(1e-3, 1e3)}\n",
        "grid_search = RandomizedSearchCV(estimator=LogisticRegression(max_iter=10000, solver='saga'), param_distributions=dist, cv=5, scoring='f1_macro')\n",
        "grid_search.fit(X_train, y_train_le)\n",
        "test_score = f1_score(y_test_le, grid_search.best_estimator_.predict(X_test), average='macro')\n",
        "print(f'El f1 score de validación es: {grid_search.best_score_:.3f} se obtiene con los siguientes hiperparámetos: {grid_search.best_params_}')\n",
        "print(f'El f1 score de prueba es: {test_score:.3f}')"
      ]
    },
    {
      "cell_type": "code",
      "execution_count": null,
      "metadata": {
        "id": "aK4ZpY8zfxPE",
        "colab": {
          "base_uri": "https://localhost:8080/"
        },
        "outputId": "1329b32a-9d2d-4a3c-c849-86ff454575d6"
      },
      "outputs": [
        {
          "output_type": "stream",
          "name": "stdout",
          "text": [
            "              precision    recall  f1-score   support\n",
            "\n",
            "           0       0.61      0.76      0.68        25\n",
            "           1       0.88      0.78      0.82        54\n",
            "\n",
            "    accuracy                           0.77        79\n",
            "   macro avg       0.74      0.77      0.75        79\n",
            "weighted avg       0.79      0.77      0.78        79\n",
            "\n"
          ]
        }
      ],
      "source": [
        "from sklearn.metrics import classification_report\n",
        "print(classification_report(y_test_le, grid_search.best_estimator_.predict(X_test)))"
      ]
    },
    {
      "cell_type": "code",
      "execution_count": null,
      "metadata": {
        "id": "-ILhp9t0f8E6",
        "colab": {
          "base_uri": "https://localhost:8080/",
          "height": 466
        },
        "outputId": "f744f0a5-df3e-4964-bd87-962405e1a1e2"
      },
      "outputs": [
        {
          "output_type": "execute_result",
          "data": {
            "text/plain": [
              "<sklearn.metrics._plot.confusion_matrix.ConfusionMatrixDisplay at 0x7cca867e3190>"
            ]
          },
          "metadata": {},
          "execution_count": 44
        },
        {
          "output_type": "display_data",
          "data": {
            "text/plain": [
              "<Figure size 640x480 with 2 Axes>"
            ],
            "image/png": "[encoded data removed]"
          },
          "metadata": {}
        }
      ],
      "source": [
        "from sklearn.metrics import ConfusionMatrixDisplay\n",
        "ConfusionMatrixDisplay.from_estimator(grid_search.best_estimator_, X_test, y_test_le)"
      ]
    },
    {
      "cell_type": "code",
      "execution_count": null,
      "metadata": {
        "id": "ub821SN9gDz1",
        "colab": {
          "base_uri": "https://localhost:8080/"
        },
        "outputId": "587a3c88-988f-4a81-fea3-8a490ba348a0"
      },
      "outputs": [
        {
          "output_type": "stream",
          "name": "stdout",
          "text": [
            "El f1 score de validación es: 0.727 se obtiene con los siguientes hiperparámetos: {'C': 0.27320192860463194, 'penalty': 'l1'}\n",
            "El f1 score de prueba es: 0.778\n"
          ]
        }
      ],
      "source": [
        "from sklearn.linear_model import LogisticRegression\n",
        "from sklearn.model_selection import RandomizedSearchCV\n",
        "from scipy.stats import loguniform\n",
        "from sklearn.metrics import f1_score\n",
        "from sklearn.preprocessing import LabelEncoder\n",
        "\n",
        "le = LabelEncoder()\n",
        "y_train_le = le.fit_transform(y_train)\n",
        "y_test_le = le.fit_transform(y_test)\n",
        "\n",
        "dist = {'penalty':['l1', 'l2'], 'C':loguniform(1e-3, 1e3)}\n",
        "grid_search = RandomizedSearchCV(estimator=LogisticRegression(max_iter=10000, solver='saga'), param_distributions=dist, cv=5, scoring='f1_weighted')\n",
        "grid_search.fit(X_train, y_train_le)\n",
        "test_score = f1_score(y_test_le, grid_search.best_estimator_.predict(X_test), average='weighted')\n",
        "print(f'El f1 score de validación es: {grid_search.best_score_:.3f} se obtiene con los siguientes hiperparámetos: {grid_search.best_params_}')\n",
        "print(f'El f1 score de prueba es: {test_score:.3f}')"
      ]
    },
    {
      "cell_type": "code",
      "execution_count": null,
      "metadata": {
        "id": "SUA6z7-Aga0O",
        "colab": {
          "base_uri": "https://localhost:8080/"
        },
        "outputId": "668cb642-4826-4347-d29f-1f5b7b14bb9c"
      },
      "outputs": [
        {
          "output_type": "stream",
          "name": "stdout",
          "text": [
            "              precision    recall  f1-score   support\n",
            "\n",
            "           0       0.61      0.76      0.68        25\n",
            "           1       0.88      0.78      0.82        54\n",
            "\n",
            "    accuracy                           0.77        79\n",
            "   macro avg       0.74      0.77      0.75        79\n",
            "weighted avg       0.79      0.77      0.78        79\n",
            "\n"
          ]
        }
      ],
      "source": [
        "from sklearn.metrics import classification_report\n",
        "print(classification_report(y_test_le, grid_search.best_estimator_.predict(X_test)))"
      ]
    },
    {
      "cell_type": "code",
      "execution_count": null,
      "metadata": {
        "id": "e1Nhx7WagiRK",
        "colab": {
          "base_uri": "https://localhost:8080/",
          "height": 466
        },
        "outputId": "184adddd-7f6e-464a-da22-1b6a7bb58397"
      },
      "outputs": [
        {
          "output_type": "execute_result",
          "data": {
            "text/plain": [
              "<sklearn.metrics._plot.confusion_matrix.ConfusionMatrixDisplay at 0x7ccabc344e80>"
            ]
          },
          "metadata": {},
          "execution_count": 47
        },
        {
          "output_type": "display_data",
          "data": {
            "text/plain": [
              "<Figure size 640x480 with 2 Axes>"
            ],
            "image/png": "[encoded data removed]"
          },
          "metadata": {}
        }
      ],
      "source": [
        "from sklearn.metrics import ConfusionMatrixDisplay\n",
        "ConfusionMatrixDisplay.from_estimator(grid_search.best_estimator_, X_test, y_test_le)"
      ]
    },
    {
      "cell_type": "markdown",
      "source": [
        "Cambiar la métrica en este caso no sirvió de nada. Pero se puede hacer algo más, que es intentar **balancear** los datos.\n",
        "\n",
        "Balancear los datos significa en este contexto intentar que si hay 2 clases con mucha diferencia en el número de observaciones, la clase mayoritaria no oculte a la minoritaria.\n",
        "\n",
        "Hay varios métodos de hacer balanceo de datos; el más simple es intentar darle más importancia a cada muestra de la clase minoritaria, que a cada muestra de la mayoritaria. En las modelos lineales esto se puede hacer configurando el parámetro **class_weight**.\n",
        "\n",
        "Primero vamos a usar la opcion \"balanced\" que da un peso a cada clase inversamente proporcional al número de muestras que tiene."
      ],
      "metadata": {
        "id": "lRB0Xn-9eSsp"
      }
    },
    {
      "cell_type": "code",
      "execution_count": null,
      "metadata": {
        "id": "G5Oo70y_gw_V",
        "colab": {
          "base_uri": "https://localhost:8080/"
        },
        "outputId": "ba576501-c92e-4fa3-a745-a82b4c1b08d6"
      },
      "outputs": [
        {
          "output_type": "stream",
          "name": "stdout",
          "text": [
            "El f1 score de validación es: 0.751 se obtiene con los siguientes hiperparámetos: {'C': 0.0024991161590590914, 'penalty': 'l1'}\n",
            "El f1 score de prueba es: 0.780\n"
          ]
        }
      ],
      "source": [
        "from sklearn.linear_model import LogisticRegression\n",
        "from sklearn.model_selection import RandomizedSearchCV\n",
        "from scipy.stats import loguniform\n",
        "from sklearn.metrics import f1_score\n",
        "from sklearn.preprocessing import LabelEncoder\n",
        "\n",
        "le = LabelEncoder()\n",
        "y_train_le = le.fit_transform(y_train)\n",
        "y_test_le = le.fit_transform(y_test)\n",
        "\n",
        "dist = {'penalty':['l1', 'l2'], 'C':loguniform(1e-3, 1e3)}\n",
        "grid_search = RandomizedSearchCV(estimator=LogisticRegression(max_iter=10000, solver='saga', class_weight='balanced'), param_distributions=dist, cv=5, scoring='f1_weighted')\n",
        "grid_search.fit(X_train, y_train_le)\n",
        "test_score = f1_score(y_test_le, grid_search.best_estimator_.predict(X_test), average='weighted')\n",
        "print(f'El f1 score de validación es: {grid_search.best_score_:.3f} se obtiene con los siguientes hiperparámetos: {grid_search.best_params_}')\n",
        "print(f'El f1 score de prueba es: {test_score:.3f}')"
      ]
    },
    {
      "cell_type": "code",
      "execution_count": null,
      "metadata": {
        "id": "WSlXRzUDioEd",
        "colab": {
          "base_uri": "https://localhost:8080/"
        },
        "outputId": "2477eacb-f133-445b-befb-208c2a623bfc"
      },
      "outputs": [
        {
          "output_type": "stream",
          "name": "stdout",
          "text": [
            "              precision    recall  f1-score   support\n",
            "\n",
            "           0       0.59      0.88      0.71        25\n",
            "           1       0.93      0.72      0.81        54\n",
            "\n",
            "    accuracy                           0.77        79\n",
            "   macro avg       0.76      0.80      0.76        79\n",
            "weighted avg       0.82      0.77      0.78        79\n",
            "\n"
          ]
        }
      ],
      "source": [
        "from sklearn.metrics import classification_report\n",
        "print(classification_report(y_test_le, grid_search.best_estimator_.predict(X_test)))"
      ]
    },
    {
      "cell_type": "code",
      "execution_count": null,
      "metadata": {
        "id": "4n4R-Rwjis-o",
        "colab": {
          "base_uri": "https://localhost:8080/",
          "height": 466
        },
        "outputId": "6a5c1021-7aac-4ac8-f39e-26465a192a3f"
      },
      "outputs": [
        {
          "output_type": "execute_result",
          "data": {
            "text/plain": [
              "<sklearn.metrics._plot.confusion_matrix.ConfusionMatrixDisplay at 0x7cca82a89930>"
            ]
          },
          "metadata": {},
          "execution_count": 53
        },
        {
          "output_type": "display_data",
          "data": {
            "text/plain": [
              "<Figure size 640x480 with 2 Axes>"
            ],
            "image/png": "[encoded data removed]"
          },
          "metadata": {}
        }
      ],
      "source": [
        "from sklearn.metrics import ConfusionMatrixDisplay\n",
        "ConfusionMatrixDisplay.from_estimator(grid_search.best_estimator_, X_test, y_test_le)"
      ]
    },
    {
      "cell_type": "markdown",
      "source": [
        "Vemos que esto si mejora el desempeño en la clase minoritaria mejora, aunque el desempeño en la mayoritaria cae un poco.\n",
        "\n",
        "Se puede probar dando pesos personalizados a cada clase:"
      ],
      "metadata": {
        "id": "m6x04Cazf9nO"
      }
    },
    {
      "cell_type": "code",
      "source": [
        "from sklearn.linear_model import LogisticRegression\n",
        "from sklearn.model_selection import RandomizedSearchCV\n",
        "from scipy.stats import loguniform\n",
        "from sklearn.metrics import f1_score\n",
        "from sklearn.preprocessing import LabelEncoder\n",
        "\n",
        "le = LabelEncoder()\n",
        "y_train_le = le.fit_transform(y_train)\n",
        "y_test_le = le.fit_transform(y_test)\n",
        "\n",
        "dist = {'penalty':['l1', 'l2'], 'C':loguniform(1e-3, 1e3)}\n",
        "grid_search = RandomizedSearchCV(estimator=LogisticRegression(max_iter=10000, solver='saga', class_weight={0:2, 1:1}), param_distributions=dist, cv=5, scoring='f1_weighted')\n",
        "grid_search.fit(X_train, y_train_le)\n",
        "test_score = f1_score(y_test_le, grid_search.best_estimator_.predict(X_test), average='weighted')\n",
        "print(f'El f1 score de validación es: {grid_search.best_score_:.3f} se obtiene con los siguientes hiperparámetos: {grid_search.best_params_}')\n",
        "print(f'El f1 score de prueba es: {test_score:.3f}')"
      ],
      "metadata": {
        "colab": {
          "base_uri": "https://localhost:8080/"
        },
        "id": "xbImaoX8iuqI",
        "outputId": "899db1ce-7524-4a00-dad9-5f424ee20b4b"
      },
      "execution_count": null,
      "outputs": [
        {
          "output_type": "stream",
          "name": "stdout",
          "text": [
            "El f1 score de validación es: 0.765 se obtiene con los siguientes hiperparámetos: {'C': 0.008139700513700403, 'penalty': 'l2'}\n",
            "El f1 score de prueba es: 0.768\n"
          ]
        }
      ]
    },
    {
      "cell_type": "markdown",
      "source": [
        "En este caso le dimos a las muestras de la clase '0' el doble de importancia que a las muestras de la clae '1'."
      ],
      "metadata": {
        "id": "FPybVJEBErpl"
      }
    },
    {
      "cell_type": "code",
      "source": [
        "from sklearn.metrics import classification_report\n",
        "print(classification_report(y_test_le, grid_search.best_estimator_.predict(X_test)))"
      ],
      "metadata": {
        "colab": {
          "base_uri": "https://localhost:8080/"
        },
        "id": "Aqe_HKMmj3y3",
        "outputId": "099496b4-6da1-418c-dfda-d5d016592e74"
      },
      "execution_count": null,
      "outputs": [
        {
          "output_type": "stream",
          "name": "stdout",
          "text": [
            "              precision    recall  f1-score   support\n",
            "\n",
            "           0       0.57      0.92      0.71        25\n",
            "           1       0.95      0.69      0.80        54\n",
            "\n",
            "    accuracy                           0.76        79\n",
            "   macro avg       0.76      0.80      0.75        79\n",
            "weighted avg       0.83      0.76      0.77        79\n",
            "\n"
          ]
        }
      ]
    },
    {
      "cell_type": "markdown",
      "source": [
        "Como resultado, el modelo mejora su desempeño con la clase '0', pero lo empeora con la clase '1'."
      ],
      "metadata": {
        "id": "Ol6EENrHE3Gk"
      }
    },
    {
      "cell_type": "code",
      "source": [
        "from sklearn.metrics import ConfusionMatrixDisplay\n",
        "ConfusionMatrixDisplay.from_estimator(grid_search.best_estimator_, X_test, y_test_le)"
      ],
      "metadata": {
        "colab": {
          "base_uri": "https://localhost:8080/",
          "height": 466
        },
        "id": "xoXazC8qZEZk",
        "outputId": "4ef5aeeb-5fcf-44c8-8499-ff8e4885484a"
      },
      "execution_count": null,
      "outputs": [
        {
          "output_type": "execute_result",
          "data": {
            "text/plain": [
              "<sklearn.metrics._plot.confusion_matrix.ConfusionMatrixDisplay at 0x7cca82b1bac0>"
            ]
          },
          "metadata": {},
          "execution_count": 56
        },
        {
          "output_type": "display_data",
          "data": {
            "text/plain": [
              "<Figure size 640x480 with 2 Axes>"
            ],
            "image/png": "[encoded data removed]"
          },
          "metadata": {}
        }
      ]
    },
    {
      "cell_type": "code",
      "source": [],
      "metadata": {
        "id": "BJVuB7dF_0mQ"
      },
      "execution_count": null,
      "outputs": []
    }
  ],
  "metadata": {
    "colab": {
      "provenance": []
    },
    "kernelspec": {
      "display_name": "Python 3 (ipykernel)",
      "language": "python",
      "name": "python3"
    },
    "language_info": {
      "codemirror_mode": {
        "name": "ipython",
        "version": 3
      },
      "file_extension": ".py",
      "mimetype": "text/x-python",
      "name": "python",
      "nbconvert_exporter": "python",
      "pygments_lexer": "ipython3",
      "version": "3.11.5"
    }
  },
  "nbformat": 4,
  "nbformat_minor": 0
}